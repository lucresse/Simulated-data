{
 "cells": [
  {
   "cell_type": "markdown",
   "metadata": {},
   "source": [
    "## A First Simulation Example on Designing and Assessing a Regression Function"
   ]
  },
  {
   "cell_type": "code",
   "execution_count": 1,
   "metadata": {},
   "outputs": [],
   "source": [
    "# useful importations\n",
    "import numpy as np\n",
    "from sklearn import linear_model\n",
    "import pandas as pd\n",
    "from collections import defaultdict\n",
    "import seaborn as sns\n",
    "import matplotlib.pyplot as plt"
   ]
  },
  {
   "cell_type": "markdown",
   "metadata": {},
   "source": [
    "### Generate one small (10 observations) training dataset\n"
   ]
  },
  {
   "cell_type": "code",
   "execution_count": 2,
   "metadata": {},
   "outputs": [],
   "source": [
    "# Generate one small (10 observations) training dataset\n",
    "#np.random.seed(42)\n",
    "mean=np.zeros(2)\n",
    "cov = np.eye((2))\n",
    "\n",
    "data10 = np.random.multivariate_normal(mean,cov,10, tol=0.8)\n",
    "X,Y = data10[:,0], data10[:,1]"
   ]
  },
  {
   "cell_type": "code",
   "execution_count": 3,
   "metadata": {},
   "outputs": [
    {
     "data": {
      "text/plain": [
       "(array([ 1.74816986,  0.89618274, -1.34614562, -1.32248109, -0.93792278,\n",
       "         0.93975591, -2.54915051,  1.12719786, -0.58971019, -0.21989218]),\n",
       " array([-1.09681402,  0.1661533 ,  0.0506778 ,  0.50706216,  0.871542  ,\n",
       "        -0.23900806,  1.27124004,  1.07340977,  1.0416435 ,  0.86303893]))"
      ]
     },
     "execution_count": 3,
     "metadata": {},
     "output_type": "execute_result"
    }
   ],
   "source": [
    "# To have a look at the data\n",
    "X, Y"
   ]
  },
  {
   "cell_type": "code",
   "execution_count": 4,
   "metadata": {},
   "outputs": [
    {
     "data": {
      "text/plain": [
       "((10,), (10,))"
      ]
     },
     "execution_count": 4,
     "metadata": {},
     "output_type": "execute_result"
    }
   ],
   "source": [
    "# To check for the shape\n",
    "X.shape, Y.shape"
   ]
  },
  {
   "cell_type": "markdown",
   "metadata": {},
   "source": [
    "### Fit the data to a linear model, calculate the apparent MSE using Residual Sum of Square (RSS)\n"
   ]
  },
  {
   "cell_type": "code",
   "execution_count": 5,
   "metadata": {},
   "outputs": [
    {
     "name": "stdout",
     "output_type": "stream",
     "text": [
      "The apparent MSE using RSS is 0.6583017766536448\n"
     ]
    }
   ],
   "source": [
    "# Fit the data to a linear model, calculate the apparent MSE using residual sum of square\n",
    "\n",
    "\n",
    "lm = linear_model.LinearRegression()\n",
    "lm.fit(X.reshape(-1,1), Y.reshape(-1,1))\n",
    "\n",
    "pred = lm.predict(X.reshape(-1,1))\n",
    "mse = np.mean((Y - pred)**2)\n",
    "print('The apparent MSE using RSS is',mse)"
   ]
  },
  {
   "cell_type": "code",
   "execution_count": 6,
   "metadata": {},
   "outputs": [
    {
     "data": {
      "text/plain": [
       "(array([[-0.3187496]]), array([0.37904851]))"
      ]
     },
     "execution_count": 6,
     "metadata": {},
     "output_type": "execute_result"
    }
   ],
   "source": [
    "# To find the coefficient of the linear model\n",
    "lm.coef_, lm.intercept_"
   ]
  },
  {
   "cell_type": "markdown",
   "metadata": {},
   "source": [
    "### Plot the linear model, the data, and the best regression\n"
   ]
  },
  {
   "cell_type": "code",
   "execution_count": 7,
   "metadata": {},
   "outputs": [
    {
     "data": {
      "text/html": [
       "<div>\n",
       "<style scoped>\n",
       "    .dataframe tbody tr th:only-of-type {\n",
       "        vertical-align: middle;\n",
       "    }\n",
       "\n",
       "    .dataframe tbody tr th {\n",
       "        vertical-align: top;\n",
       "    }\n",
       "\n",
       "    .dataframe thead th {\n",
       "        text-align: right;\n",
       "    }\n",
       "</style>\n",
       "<table border=\"1\" class=\"dataframe\">\n",
       "  <thead>\n",
       "    <tr style=\"text-align: right;\">\n",
       "      <th></th>\n",
       "      <th>X</th>\n",
       "      <th>Y</th>\n",
       "    </tr>\n",
       "  </thead>\n",
       "  <tbody>\n",
       "    <tr>\n",
       "      <th>0</th>\n",
       "      <td>1.748170</td>\n",
       "      <td>-1.096814</td>\n",
       "    </tr>\n",
       "    <tr>\n",
       "      <th>1</th>\n",
       "      <td>0.896183</td>\n",
       "      <td>0.166153</td>\n",
       "    </tr>\n",
       "    <tr>\n",
       "      <th>2</th>\n",
       "      <td>-1.346146</td>\n",
       "      <td>0.050678</td>\n",
       "    </tr>\n",
       "    <tr>\n",
       "      <th>3</th>\n",
       "      <td>-1.322481</td>\n",
       "      <td>0.507062</td>\n",
       "    </tr>\n",
       "    <tr>\n",
       "      <th>4</th>\n",
       "      <td>-0.937923</td>\n",
       "      <td>0.871542</td>\n",
       "    </tr>\n",
       "  </tbody>\n",
       "</table>\n",
       "</div>"
      ],
      "text/plain": [
       "          X         Y\n",
       "0  1.748170 -1.096814\n",
       "1  0.896183  0.166153\n",
       "2 -1.346146  0.050678\n",
       "3 -1.322481  0.507062\n",
       "4 -0.937923  0.871542"
      ]
     },
     "execution_count": 7,
     "metadata": {},
     "output_type": "execute_result"
    }
   ],
   "source": [
    "## Plot the linear model, the data, and the best regression\n",
    "\n",
    "# Let's build the dictionary first\n",
    "dictionary = defaultdict(lambda:0)\n",
    "dictionary['X'] = X\n",
    "dictionary['Y'] = Y\n",
    "data = pd.DataFrame(dictionary)\n",
    "data.head()"
   ]
  },
  {
   "cell_type": "markdown",
   "metadata": {},
   "source": [
    "### Let us define the test function"
   ]
  },
  {
   "cell_type": "code",
   "execution_count": 8,
   "metadata": {},
   "outputs": [],
   "source": [
    "test_function = lambda x,y: np.mean(y) + (np.cov(y,x)[0][1]/np.var(x)) * (x - np.mean(x))"
   ]
  },
  {
   "cell_type": "code",
   "execution_count": 9,
   "metadata": {},
   "outputs": [
    {
     "data": {
      "image/png": "[encoded data removed]",
      "text/plain": [
       "<Figure size 432x288 with 1 Axes>"
      ]
     },
     "metadata": {
      "needs_background": "light"
     },
     "output_type": "display_data"
    }
   ],
   "source": [
    "#plot\n",
    "exp = test_function(X,Y)\n",
    "#exp = np.mean(Y) + (np.cov(Y,X)[0][1]/np.var(X)) * (X - np.mean(X))\n",
    "\n",
    "plt.figure()\n",
    "plt.scatter(data['X'], data['Y'], label='Data')\n",
    "plt.plot(data['X'], pred, 'yellow', label='Linear model')\n",
    "plt.plot(data['X'], exp, 'x', color = 'red', label='Best regression function')\n",
    "\n",
    "plt.title('Data, Linear model and Best regression function')\n",
    "plt.xlabel(\"X\")\n",
    "plt.ylabel(\"Y\")\n",
    "plt.legend()\n",
    "plt.show()"
   ]
  },
  {
   "cell_type": "markdown",
   "metadata": {},
   "source": [
    "### To generate a large data set (1000 observations to represent the population) from the same distribution and calculate the true error rate"
   ]
  },
  {
   "cell_type": "code",
   "execution_count": 20,
   "metadata": {},
   "outputs": [
    {
     "name": "stdout",
     "output_type": "stream",
     "text": [
      "The true error rate is 1.0184034881449326\n"
     ]
    }
   ],
   "source": [
    "# To generate a large data set (1000 observations to represent the population) from the same distribution and calculate\n",
    "#the true error rate\n",
    "\n",
    "mean=np.zeros(2)\n",
    "cov = np.eye((2))\n",
    "\n",
    "data = np.random.multivariate_normal(mean,cov,1000, tol=0.8)\n",
    "X_large,Y_large = data[:,0], data[:,1]\n",
    "lm_large = linear_model.LinearRegression()\n",
    "lm_large.fit(X_large.reshape(-1,1), Y_large.reshape(-1,1))\n",
    "\n",
    "pred = lm_large.predict(X_large.reshape(-1,1))\n",
    "err_tr = np.mean((Y_large - pred)**2)\n",
    "print('The true error rate is', err_tr)"
   ]
  },
  {
   "cell_type": "markdown",
   "metadata": {},
   "source": [
    "### To obtain the performance of best regression function\n"
   ]
  },
  {
   "cell_type": "code",
   "execution_count": 21,
   "metadata": {},
   "outputs": [
    {
     "name": "stdout",
     "output_type": "stream",
     "text": [
      "The performance of the best regression model is 1.0181034093160442\n"
     ]
    }
   ],
   "source": [
    "# To obtain the performance of best regression function\n",
    "exp_large = test_function(X_large,Y_large)\n",
    "#exp_large = np.mean(X_large) + (np.cov(Y_large,X_large)[0][1]/np.var(X_large)) * (X_large - np.mean(X_large))\n",
    "err_star = np.mean((Y_large - exp_large)**2)\n",
    "print('The performance of the best regression model is',err_star)"
   ]
  },
  {
   "cell_type": "markdown",
   "metadata": {},
   "source": [
    "### Do Monte-Carlo (MC) simulation by repeating the above for 500 training sets of the same size (10 observations), with the same large testing set (the 1000 observations)"
   ]
  },
  {
   "cell_type": "code",
   "execution_count": 22,
   "metadata": {},
   "outputs": [],
   "source": [
    "# Let's generate the testing set\n",
    "mean = np.zeros(2)\n",
    "cov = np.eye((2))\n",
    "test_data = np.random.multivariate_normal(mean, cov, 1000, tol=0.8)\n",
    "X_test, Y_test = test_data[:,0], test_data[:,1]"
   ]
  },
  {
   "cell_type": "code",
   "execution_count": 23,
   "metadata": {},
   "outputs": [
    {
     "data": {
      "image/png": "[encoded data removed]",
      "text/plain": [
       "<Figure size 432x288 with 1 Axes>"
      ]
     },
     "metadata": {
      "needs_background": "light"
     },
     "output_type": "display_data"
    }
   ],
   "source": [
    "# Monte Carlo simulation\n",
    "\n",
    "err = list()\n",
    "mean = np.zeros(2)\n",
    "cov = np.eye((2))\n",
    "exp_test = test_function(X_test,Y_test)\n",
    "#exp_test = np.mean(Y_test) + (np.cov(Y_test,X_test)[0][1]/np.var(X_test)) * (X_test - np.mean(X_test))\n",
    "\n",
    "for i in range(500):\n",
    "    train_data = np.random.multivariate_normal(mean,cov,10,tol=0.8)\n",
    "    \n",
    "    X_large,Y_large = train_data[:,0], train_data[:,1]\n",
    "    \n",
    "    lm_large = linear_model.LinearRegression()\n",
    "    \n",
    "    lm_large.fit(X_large.reshape(-1,1), Y_large.reshape(-1,1))\n",
    "\n",
    "    pred = lm_large.predict(X_large.reshape(-1,1))\n",
    "    \n",
    "    err_tr = np.mean((Y_large - pred)**2)\n",
    "    \n",
    "    err.append(err_tr)\n",
    "    \n",
    "    plt.plot(X_large, pred, 'gray', label='Linear model')\n",
    "\n",
    "\n",
    "    plt.title('Monte Carlo simulation')\n",
    "\n",
    "plt.plot(test_data, exp_test, 'o', color='black', label='Best regression function')\n",
    "plt.rc('font', weight='bold')\n",
    "plt.show()\n"
   ]
  },
  {
   "cell_type": "markdown",
   "metadata": {},
   "source": [
    "### mean and variance of errors"
   ]
  },
  {
   "cell_type": "code",
   "execution_count": 24,
   "metadata": {},
   "outputs": [
    {
     "name": "stdout",
     "output_type": "stream",
     "text": [
      "The mean and variance of the errors are 0.990657887744489 and 0.23708225417195591 respectively\n"
     ]
    }
   ],
   "source": [
    "# mean and var of errors\n",
    "mean_ = np.mean(err)\n",
    "var_ = np.var(err) \n",
    "print('The mean and variance of the errors are {} and {} respectively'.format(mean_, var_))"
   ]
  },
  {
   "cell_type": "markdown",
   "metadata": {},
   "source": [
    "## To repeat 10 more times with different training-set sizes"
   ]
  },
  {
   "cell_type": "code",
   "execution_count": 25,
   "metadata": {},
   "outputs": [],
   "source": [
    "## To repeat 10 more times\n",
    "err_sample = list()\n",
    "var_sample = list()\n",
    "\n",
    "#testing set\n",
    "exp_test = test_function(X_test,Y_test)\n",
    "#np.mean(Y_test) + (np.cov(Y_test,X_test)[0][1]/np.var(X_test)) * (X_test - np.mean(X_test))\n",
    "\n",
    "#testting error (RME)\n",
    "err_test = np.mean((Y_test - exp_test)**2)\n",
    "\n",
    "#Big training loop\n",
    "train_size = [20, 30, 40, 80, 100, 200, 300, 400, 500, 700,1000]\n",
    "index = []\n",
    "for idx, n_tr in enumerate(train_size):\n",
    "    index.append(idx)\n",
    "    err = list()\n",
    "    for i in range(500):\n",
    "        \n",
    "        train_data = np.random.multivariate_normal(mean,cov,n_tr,tol=0.8)\n",
    "\n",
    "        X_large,Y_large = train_data[:,0], train_data[:,1]\n",
    "\n",
    "        lm_large = linear_model.LinearRegression()\n",
    "\n",
    "        lm_large.fit(X_large.reshape(-1,1), Y_large.reshape(-1,1))\n",
    "\n",
    "        pred = lm_large.predict(X_large.reshape(-1,1))\n",
    "\n",
    "        err_tr = np.mean((Y_large - pred)**2)\n",
    "\n",
    "        err.append(err_tr)\n",
    "    err_sample.append(np.mean(err))\n",
    "    var_sample.append(np.var(err))\n",
    "    "
   ]
  },
  {
   "cell_type": "code",
   "execution_count": 27,
   "metadata": {},
   "outputs": [
    {
     "data": {
      "text/plain": [
       "<matplotlib.legend.Legend at 0x7f68d1666cc0>"
      ]
     },
     "execution_count": 27,
     "metadata": {},
     "output_type": "execute_result"
    },
    {
     "data": {
      "image/png": "[encoded data removed]",
      "text/plain": [
       "<Figure size 432x288 with 1 Axes>"
      ]
     },
     "metadata": {
      "needs_background": "light"
     },
     "output_type": "display_data"
    }
   ],
   "source": [
    "# plot\n",
    "\n",
    "figure = plt.figure()\n",
    "axes = figure.add_subplot(111)\n",
    "axes.plot(index, err_sample, label = 'Training error')\n",
    "#Variance\n",
    "axes.plot(index, var_sample, label = 'Variance of the error')\n",
    "\n",
    "# testing sample error\n",
    "axes.plot(index, np.ones(len(index))*err_test, label = ' Best regression error')\n",
    "\n",
    "axes.xaxis.set_ticks(range(11))\n",
    "axes.xaxis.set_ticklabels(train_size)\n",
    "axes.legend()\n"
   ]
  },
  {
   "cell_type": "code",
   "execution_count": null,
   "metadata": {},
   "outputs": [],
   "source": []
  }
 ],
 "metadata": {
  "kernelspec": {
   "display_name": "Python 3",
   "language": "python",
   "name": "python3"
  },
  "language_info": {
   "codemirror_mode": {
    "name": "ipython",
    "version": 3
   },
   "file_extension": ".py",
   "mimetype": "text/x-python",
   "name": "python",
   "nbconvert_exporter": "python",
   "pygments_lexer": "ipython3",
   "version": "3.7.3"
  }
 },
 "nbformat": 4,
 "nbformat_minor": 2
}
